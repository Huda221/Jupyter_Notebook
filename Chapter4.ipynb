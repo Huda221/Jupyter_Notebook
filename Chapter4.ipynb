{
 "cells": [
  {
   "cell_type": "markdown",
   "id": "a6fd8a6e",
   "metadata": {},
   "source": [
    "# Functions"
   ]
  },
  {
   "cell_type": "markdown",
   "id": "c75d9c54",
   "metadata": {},
   "source": [
    "# Chapter 4"
   ]
  },
  {
   "cell_type": "code",
   "execution_count": 1,
   "id": "7ecac6e0",
   "metadata": {},
   "outputs": [
    {
     "name": "stdout",
     "output_type": "stream",
     "text": [
      "Hello\n",
      "World\n",
      "Zip\n",
      "Hello\n",
      "World\n"
     ]
    }
   ],
   "source": [
    "def thing():\n",
    "    print(\"Hello\")\n",
    "    print(\"World\")\n",
    "thing()\n",
    "print(\"Zip\")\n",
    "thing()"
   ]
  },
  {
   "cell_type": "code",
   "execution_count": 2,
   "id": "230e9ccb",
   "metadata": {},
   "outputs": [
    {
     "name": "stdout",
     "output_type": "stream",
     "text": [
      "Hello\n",
      "Yes\n",
      "Iʻm a lumberjack, amd Iʻm okay\n",
      "I sleep all night and I work all day\n",
      "7\n"
     ]
    }
   ],
   "source": [
    "x=5\n",
    "print(\"Hello\")\n",
    "\n",
    "def print_lyrics():\n",
    "    print(\"Iʻm a lumberjack, amd Iʻm okay\")\n",
    "    print(\"I sleep all night and I work all day\")\n",
    "    \n",
    "print(\"Yes\")\n",
    "print_lyrics()\n",
    "x=x+2\n",
    "print(x)"
   ]
  },
  {
   "cell_type": "code",
   "execution_count": 3,
   "id": "3f5112f8",
   "metadata": {},
   "outputs": [
    {
     "name": "stdout",
     "output_type": "stream",
     "text": [
      "Hello Huda\n",
      "Hello BTS\n"
     ]
    }
   ],
   "source": [
    "def greet():\n",
    "    return \"Hello\"\n",
    "print(greet(),\"Huda\")\n",
    "print(greet(),\"BTS\")"
   ]
  },
  {
   "cell_type": "code",
   "execution_count": 4,
   "id": "56bb176f",
   "metadata": {},
   "outputs": [
    {
     "name": "stdout",
     "output_type": "stream",
     "text": [
      "10\n"
     ]
    }
   ],
   "source": [
    "def add(a,b):\n",
    "    added=a+b\n",
    "    return added\n",
    "x=add(4,6)\n",
    "print(x)"
   ]
  },
  {
   "cell_type": "code",
   "execution_count": null,
   "id": "ef3275a2",
   "metadata": {},
   "outputs": [],
   "source": []
  }
 ],
 "metadata": {
  "kernelspec": {
   "display_name": "Python 3 (ipykernel)",
   "language": "python",
   "name": "python3"
  },
  "language_info": {
   "codemirror_mode": {
    "name": "ipython",
    "version": 3
   },
   "file_extension": ".py",
   "mimetype": "text/x-python",
   "name": "python",
   "nbconvert_exporter": "python",
   "pygments_lexer": "ipython3",
   "version": "3.11.4"
  }
 },
 "nbformat": 4,
 "nbformat_minor": 5
}
