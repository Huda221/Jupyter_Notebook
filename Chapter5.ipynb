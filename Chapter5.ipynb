{
 "cells": [
  {
   "cell_type": "code",
   "execution_count": 1,
   "id": "811c488f",
   "metadata": {},
   "outputs": [
    {
     "name": "stdout",
     "output_type": "stream",
     "text": [
      "5\n",
      "4\n",
      "3\n",
      "2\n",
      "1\n",
      "Hello\n",
      "0\n"
     ]
    }
   ],
   "source": [
    "n=5\n",
    "while n>0:\n",
    "    print(n)\n",
    "    n=n-1\n",
    "print(\"Hello\")\n",
    "print(n)"
   ]
  },
  {
   "cell_type": "code",
   "execution_count": 2,
   "id": "06a81671",
   "metadata": {},
   "outputs": [
    {
     "name": "stdout",
     "output_type": "stream",
     "text": [
      "5\n",
      "4\n",
      "3\n",
      "2\n",
      "1\n",
      "Numbers\n"
     ]
    }
   ],
   "source": [
    "for i in [5,4,3,2,1]:\n",
    "    print(i)\n",
    "print(\"Numbers\")    "
   ]
  },
  {
   "cell_type": "code",
   "execution_count": 3,
   "id": "f189d23b",
   "metadata": {},
   "outputs": [
    {
     "name": "stdout",
     "output_type": "stream",
     "text": [
      "Happy New year Huda\n",
      "Happy New year Saba\n",
      "Happy New year Alina\n",
      "Done\n"
     ]
    }
   ],
   "source": [
    "friends = [\"Huda\",\"Saba\",\"Alina\"]\n",
    "for friend in friends:\n",
    "    print(\"Happy New year\",friend)\n",
    "print(\"Done\")    "
   ]
  },
  {
   "cell_type": "code",
   "execution_count": 4,
   "id": "a75b1777",
   "metadata": {},
   "outputs": [
    {
     "name": "stdout",
     "output_type": "stream",
     "text": [
      "Before\n",
      "22\n",
      "45\n",
      "67\n",
      "32\n",
      "98\n",
      "After\n"
     ]
    }
   ],
   "source": [
    "print(\"Before\")\n",
    "for thing in [22,45,67,32,98]:\n",
    "    print(thing)\n",
    "print(\"After\")    "
   ]
  },
  {
   "cell_type": "code",
   "execution_count": 5,
   "id": "91f3bc51",
   "metadata": {},
   "outputs": [
    {
     "name": "stdout",
     "output_type": "stream",
     "text": [
      "Before -1\n",
      "9 9\n",
      "41 41\n",
      "41 12\n",
      "41 3\n",
      "74 74\n",
      "74 15\n",
      "After 74\n"
     ]
    }
   ],
   "source": [
    "largest_so_far = -1\n",
    "print(\"Before\", largest_so_far)\n",
    "for the_num in [9,41,12,3,74,15]:\n",
    "    if the_num > largest_so_far:\n",
    "        largest_so_far = the_num\n",
    "    print(largest_so_far, the_num)\n",
    "    \n",
    "print(\"After\", largest_so_far)    "
   ]
  },
  {
   "cell_type": "code",
   "execution_count": 6,
   "id": "cabfbc5a",
   "metadata": {},
   "outputs": [
    {
     "name": "stdout",
     "output_type": "stream",
     "text": [
      "Before 0\n",
      "1 9\n",
      "2 41\n",
      "3 12\n",
      "4 3\n",
      "5 74\n",
      "6 15\n",
      "After 6\n"
     ]
    }
   ],
   "source": [
    "zork = 0\n",
    "print(\"Before\",zork)\n",
    "for thing in [9,41,12,3,74,15]:\n",
    "    zork = zork+1\n",
    "    print(zork, thing)\n",
    "print(\"After\", zork)    "
   ]
  },
  {
   "cell_type": "code",
   "execution_count": 7,
   "id": "70d52ab6",
   "metadata": {},
   "outputs": [
    {
     "name": "stdout",
     "output_type": "stream",
     "text": [
      "Before 0 0\n",
      "1 9 9\n",
      "2 50 41\n",
      "3 62 12\n",
      "4 65 3\n",
      "5 139 74\n",
      "6 154 15\n",
      "After 6 154 25.666666666666668\n"
     ]
    }
   ],
   "source": [
    "count = 0\n",
    "sum = 0\n",
    "print(\"Before\",count,sum)\n",
    "for value in [9,41,12,3,74,15]:\n",
    "    count=count+1\n",
    "    sum=sum+value\n",
    "    print(count,sum,value)\n",
    "print(\"After\",count,sum,sum/count)    "
   ]
  },
  {
   "cell_type": "code",
   "execution_count": 8,
   "id": "74c2d000",
   "metadata": {},
   "outputs": [
    {
     "name": "stdout",
     "output_type": "stream",
     "text": [
      "Before\n",
      "Large Number 41\n",
      "Large Number 74\n",
      "After\n"
     ]
    }
   ],
   "source": [
    "print(\"Before\")\n",
    "for value in [9,41,12,3,74,15]:\n",
    "    if value>20:\n",
    "        print(\"Large Number\",value)\n",
    "print(\"After\")        "
   ]
  },
  {
   "cell_type": "code",
   "execution_count": 10,
   "id": "9afd2785",
   "metadata": {},
   "outputs": [
    {
     "name": "stdout",
     "output_type": "stream",
     "text": [
      "Before False\n",
      "False 9\n",
      "False 41\n",
      "False 12\n",
      "True 3\n",
      "True 74\n",
      "True 15\n",
      "After True\n"
     ]
    }
   ],
   "source": [
    "found = False\n",
    "print(\"Before\", found)\n",
    "for value in [9,41,12,3,74,15]:\n",
    "    if value ==3:\n",
    "        found = True\n",
    "    print(found, value)\n",
    "print(\"After\",found)    "
   ]
  },
  {
   "cell_type": "code",
   "execution_count": 12,
   "id": "8459c000",
   "metadata": {},
   "outputs": [
    {
     "name": "stdout",
     "output_type": "stream",
     "text": [
      "Before -1\n",
      "-1 9\n",
      "-1 41\n",
      "-1 12\n",
      "-1 3\n",
      "-1 74\n",
      "-1 15\n",
      "After -1\n"
     ]
    }
   ],
   "source": [
    "smallest_so_far = -1\n",
    "print(\"Before\", smallest_so_far)\n",
    "for the_num in [9,41,12,3,74,15]:\n",
    "    if the_num < smallest_so_far:\n",
    "        smallest_so_far = the_num\n",
    "    print(smallest_so_far, the_num)\n",
    "print(\"After\",smallest_so_far)    "
   ]
  },
  {
   "cell_type": "code",
   "execution_count": 13,
   "id": "3f5c7c6b",
   "metadata": {},
   "outputs": [
    {
     "name": "stdout",
     "output_type": "stream",
     "text": [
      "Before\n",
      "9 9\n",
      "9 41\n",
      "9 12\n",
      "3 3\n",
      "3 74\n",
      "3 15\n",
      "After 3\n"
     ]
    }
   ],
   "source": [
    "smallest = None\n",
    "print(\"Before\")\n",
    "for value in [9,41,12,3,74,15]:\n",
    "    if smallest is None:\n",
    "        smallest = value\n",
    "    elif value<smallest:\n",
    "        smallest = value\n",
    "    print(smallest, value)\n",
    "print(\"After\", smallest)    "
   ]
  },
  {
   "cell_type": "code",
   "execution_count": null,
   "id": "3a49d49f",
   "metadata": {},
   "outputs": [],
   "source": []
  }
 ],
 "metadata": {
  "kernelspec": {
   "display_name": "Python 3 (ipykernel)",
   "language": "python",
   "name": "python3"
  },
  "language_info": {
   "codemirror_mode": {
    "name": "ipython",
    "version": 3
   },
   "file_extension": ".py",
   "mimetype": "text/x-python",
   "name": "python",
   "nbconvert_exporter": "python",
   "pygments_lexer": "ipython3",
   "version": "3.11.4"
  }
 },
 "nbformat": 4,
 "nbformat_minor": 5
}
