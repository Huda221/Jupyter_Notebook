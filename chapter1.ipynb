{
 "cells": [
  {
   "cell_type": "markdown",
   "id": "191c0314",
   "metadata": {},
   "source": [
    "# Chapter 1"
   ]
  },
  {
   "cell_type": "code",
   "execution_count": 3,
   "id": "bba51a41",
   "metadata": {},
   "outputs": [
    {
     "name": "stdout",
     "output_type": "stream",
     "text": [
      "1\n",
      "2\n"
     ]
    }
   ],
   "source": [
    "x=1 \n",
    "print(x)\n",
    "x=x+1\n",
    "print(x)"
   ]
  },
  {
   "cell_type": "code",
   "execution_count": 4,
   "id": "f1505d1c",
   "metadata": {},
   "outputs": [
    {
     "name": "stdout",
     "output_type": "stream",
     "text": [
      "4\n"
     ]
    }
   ],
   "source": [
    "# Sequential steps\n",
    "x=2\n",
    "x=x+2\n",
    "print(x)"
   ]
  },
  {
   "cell_type": "code",
   "execution_count": 5,
   "id": "7f627db7",
   "metadata": {},
   "outputs": [
    {
     "name": "stdout",
     "output_type": "stream",
     "text": [
      "smaller\n",
      "Done\n"
     ]
    }
   ],
   "source": [
    "# conditional steps\n",
    "x=5            \n",
    "if x<10:\n",
    "    print(\"smaller\")\n",
    "if x>20:\n",
    "    print(\"Bigger\")\n",
    "    \n",
    "print(\"Done\")    "
   ]
  },
  {
   "cell_type": "code",
   "execution_count": 6,
   "id": "53d7f024",
   "metadata": {},
   "outputs": [
    {
     "name": "stdout",
     "output_type": "stream",
     "text": [
      "5\n",
      "4\n",
      "3\n",
      "2\n",
      "1\n",
      "Reverse counting\n"
     ]
    }
   ],
   "source": [
    "# repeated steps\n",
    "y=5\n",
    "while y>0:\n",
    "    print(y)\n",
    "    y=y-1\n",
    "print(\"Reverse counting\")    "
   ]
  },
  {
   "cell_type": "code",
   "execution_count": null,
   "id": "ac48e8ce",
   "metadata": {},
   "outputs": [],
   "source": []
  }
 ],
 "metadata": {
  "kernelspec": {
   "display_name": "Python 3 (ipykernel)",
   "language": "python",
   "name": "python3"
  },
  "language_info": {
   "codemirror_mode": {
    "name": "ipython",
    "version": 3
   },
   "file_extension": ".py",
   "mimetype": "text/x-python",
   "name": "python",
   "nbconvert_exporter": "python",
   "pygments_lexer": "ipython3",
   "version": "3.11.4"
  }
 },
 "nbformat": 4,
 "nbformat_minor": 5
}
