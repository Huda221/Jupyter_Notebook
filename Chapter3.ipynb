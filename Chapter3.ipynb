{
 "cells": [
  {
   "cell_type": "markdown",
   "id": "1a8b0645",
   "metadata": {},
   "source": [
    "# Chapter 3 "
   ]
  },
  {
   "cell_type": "markdown",
   "id": "534111c0",
   "metadata": {},
   "source": [
    "# Conditional Execution"
   ]
  },
  {
   "cell_type": "code",
   "execution_count": 1,
   "id": "aa6b6c3e",
   "metadata": {},
   "outputs": [
    {
     "name": "stdout",
     "output_type": "stream",
     "text": [
      "Equals 5\n",
      "Greater than 4\n",
      "Greater than or equal to 5\n",
      "Less than 6\n",
      "Less than or equal to 5\n",
      "Not eqaul 6\n"
     ]
    }
   ],
   "source": [
    "x=5\n",
    "if x==5:\n",
    "    print(\"Equals 5\")\n",
    "if x>4:\n",
    "    print(\"Greater than 4\")\n",
    "if x>=5:\n",
    "    print(\"Greater than or equal to 5\")\n",
    "if x<6:\n",
    "    print(\"Less than 6\")\n",
    "if x<=5:\n",
    "    print(\"Less than or equal to 5\")\n",
    "if x!=6:\n",
    "    print(\"Not eqaul 6\")"
   ]
  },
  {
   "cell_type": "code",
   "execution_count": 3,
   "id": "1bd7c346",
   "metadata": {},
   "outputs": [
    {
     "name": "stdout",
     "output_type": "stream",
     "text": [
      "Bigger than 2\n",
      "Still Bigger\n",
      "Done with 2\n",
      "0\n",
      "Done with i 0\n",
      "1\n",
      "Done with i 1\n",
      "2\n",
      "Done with i 2\n",
      "3\n",
      "Bigger than 2\n",
      "Done with i 3\n",
      "4\n",
      "Bigger than 2\n",
      "Done with i 4\n",
      "All done\n"
     ]
    }
   ],
   "source": [
    "x=5\n",
    "if x>2:\n",
    "    print(\"Bigger than 2\")\n",
    "    print(\"Still Bigger\")\n",
    "print(\"Done with 2\")\n",
    "\n",
    "for i in range(5):\n",
    "    print(i)\n",
    "    if i>2:\n",
    "        print(\"Bigger than 2\")\n",
    "    print(\"Done with i\", i)\n",
    "print(\"All done\")    "
   ]
  },
  {
   "cell_type": "code",
   "execution_count": 4,
   "id": "973b693d",
   "metadata": {},
   "outputs": [
    {
     "name": "stdout",
     "output_type": "stream",
     "text": [
      "More than one\n",
      "Less than 100\n",
      "All done\n"
     ]
    }
   ],
   "source": [
    "# Nestes Decisions\n",
    "\n",
    "x=42\n",
    "if x>1:\n",
    "    print(\"More than one\")\n",
    "    if x<100:\n",
    "        print(\"Less than 100\")\n",
    "print(\"All done\")        "
   ]
  },
  {
   "cell_type": "code",
   "execution_count": 5,
   "id": "d11f0553",
   "metadata": {},
   "outputs": [
    {
     "name": "stdout",
     "output_type": "stream",
     "text": [
      "Bigger\n",
      "All Done\n"
     ]
    }
   ],
   "source": [
    "# Two way decisions with else:\n",
    "\n",
    "x=4\n",
    "\n",
    "if x>2:\n",
    "    print(\"Bigger\")\n",
    "else:\n",
    "    print(\"smaler\")\n",
    "    \n",
    "print(\"All Done\")"
   ]
  },
  {
   "cell_type": "code",
   "execution_count": 6,
   "id": "d88d5c8c",
   "metadata": {},
   "outputs": [
    {
     "name": "stdout",
     "output_type": "stream",
     "text": [
      "Large\n",
      "all done\n"
     ]
    }
   ],
   "source": [
    "# Multiple if-else\n",
    "\n",
    "x=10\n",
    "if x<2:\n",
    "    print(\"Small\")\n",
    "elif x<10:\n",
    "    print(\"Medium\")\n",
    "else:\n",
    "    print(\"Large\")\n",
    "    \n",
    "print(\"all done\")    "
   ]
  },
  {
   "cell_type": "code",
   "execution_count": null,
   "id": "5577700b",
   "metadata": {},
   "outputs": [],
   "source": []
  }
 ],
 "metadata": {
  "kernelspec": {
   "display_name": "Python 3 (ipykernel)",
   "language": "python",
   "name": "python3"
  },
  "language_info": {
   "codemirror_mode": {
    "name": "ipython",
    "version": 3
   },
   "file_extension": ".py",
   "mimetype": "text/x-python",
   "name": "python",
   "nbconvert_exporter": "python",
   "pygments_lexer": "ipython3",
   "version": "3.11.4"
  }
 },
 "nbformat": 4,
 "nbformat_minor": 5
}
